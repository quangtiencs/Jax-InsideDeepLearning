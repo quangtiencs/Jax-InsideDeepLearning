{
 "cells": [
  {
   "cell_type": "code",
   "execution_count": 1,
   "metadata": {},
   "outputs": [],
   "source": [
    "import seaborn as sns\n",
    "import matplotlib.pyplot as plt\n",
    "import numpy as np\n",
    "from tqdm.notebook import tqdm\n",
    "import pandas as pd\n",
    "import os"
   ]
  },
  {
   "cell_type": "code",
   "execution_count": 2,
   "metadata": {},
   "outputs": [],
   "source": [
    "os.environ[\"JAX_ENABLE_X64\"] = \"True\""
   ]
  },
  {
   "cell_type": "code",
   "execution_count": 3,
   "metadata": {},
   "outputs": [],
   "source": [
    "import jax\n",
    "import jax.numpy as jnp\n",
    "from jax import random as jax_random\n",
    "\n",
    "key_random = jax.random.key(12)"
   ]
  },
  {
   "cell_type": "code",
   "execution_count": 4,
   "metadata": {},
   "outputs": [],
   "source": [
    "import optax"
   ]
  },
  {
   "cell_type": "code",
   "execution_count": 5,
   "metadata": {},
   "outputs": [
    {
     "name": "stdout",
     "output_type": "stream",
     "text": [
      "Jax version 0.4.28\n"
     ]
    }
   ],
   "source": [
    "print(f\"Jax version {jax.__version__}\")"
   ]
  },
  {
   "cell_type": "code",
   "execution_count": 6,
   "metadata": {},
   "outputs": [],
   "source": [
    "jax_scalar = jnp.array(3.14)\n",
    "jax_vector = jnp.array([1, 2, 3, 4])\n",
    "jax_matrix = jnp.array([[1, 2], [3, 4], [5, 6], [7, 8]])\n",
    "jax_tensor3d = jnp.array(\n",
    "    [\n",
    "        [[1, 2, 3], [4, 5, 6]],\n",
    "        [[7, 8, 9], [10, 11, 12]],\n",
    "        [[13, 14, 15], [16, 17, 18]],\n",
    "        [\n",
    "            [19, 20, 21],\n",
    "            [22, 23, 24],\n",
    "        ],\n",
    "    ]\n",
    ")"
   ]
  },
  {
   "cell_type": "code",
   "execution_count": 7,
   "metadata": {},
   "outputs": [
    {
     "name": "stdout",
     "output_type": "stream",
     "text": [
      "()\n",
      "(4,)\n",
      "(4, 2)\n",
      "(4, 2, 3)\n"
     ]
    }
   ],
   "source": [
    "print(jax_scalar.shape)\n",
    "print(jax_vector.shape)\n",
    "print(jax_matrix.shape)\n",
    "print(jax_tensor3d.shape)"
   ]
  },
  {
   "cell_type": "code",
   "execution_count": 8,
   "metadata": {},
   "outputs": [
    {
     "name": "stdout",
     "output_type": "stream",
     "text": [
      "float32\n",
      "[[ 0.29981548  1.0307399   0.64020723 -1.5756007 ]\n",
      " [ 2.16129     0.2117739  -2.0117774  -0.2535699 ]\n",
      " [ 1.5561429   1.4858311   0.18778    -1.4641176 ]\n",
      " [-0.93344206 -2.3797116  -0.04247228 -0.8265378 ]]\n"
     ]
    }
   ],
   "source": [
    "x_jax_32 = jax_random.normal(key_random, shape=(4, 4), dtype=jnp.float32)\n",
    "print(x_jax_32.dtype)\n",
    "print(x_jax_32)"
   ]
  },
  {
   "cell_type": "code",
   "execution_count": 9,
   "metadata": {},
   "outputs": [
    {
     "name": "stdout",
     "output_type": "stream",
     "text": [
      "float32 float64\n"
     ]
    }
   ],
   "source": [
    "x_jax_64 = jnp.asarray(x_jax_32, dtype=jnp.float64)\n",
    "print(x_jax_32.dtype, x_jax_64.dtype)"
   ]
  },
  {
   "cell_type": "code",
   "execution_count": 10,
   "metadata": {},
   "outputs": [
    {
     "name": "stdout",
     "output_type": "stream",
     "text": [
      "[[False  True  True False]\n",
      " [ True False False False]\n",
      " [ True  True False False]\n",
      " [False False False False]]\n",
      "bool\n"
     ]
    }
   ],
   "source": [
    "b_np = x_jax_64 > 0.5\n",
    "print(b_np)\n",
    "print(b_np.dtype)"
   ]
  },
  {
   "cell_type": "code",
   "execution_count": 11,
   "metadata": {},
   "outputs": [
    {
     "data": {
      "text/plain": [
       "Array(-1.9136487, dtype=float32)"
      ]
     },
     "execution_count": 11,
     "metadata": {},
     "output_type": "execute_result"
    }
   ],
   "source": [
    "jnp.sum(x_jax_32)"
   ]
  },
  {
   "cell_type": "code",
   "execution_count": 12,
   "metadata": {},
   "outputs": [
    {
     "data": {
      "text/plain": [
       "Array([[ 0.29981548,  2.16129   ,  1.5561429 , -0.93344206],\n",
       "       [ 1.0307399 ,  0.2117739 ,  1.4858311 , -2.3797116 ],\n",
       "       [ 0.64020723, -2.0117774 ,  0.18778   , -0.04247228],\n",
       "       [-1.5756007 , -0.2535699 , -1.4641176 , -0.8265378 ]],      dtype=float32)"
      ]
     },
     "execution_count": 12,
     "metadata": {},
     "output_type": "execute_result"
    }
   ],
   "source": [
    "jnp.transpose(x_jax_32)"
   ]
  },
  {
   "cell_type": "code",
   "execution_count": 13,
   "metadata": {},
   "outputs": [
    {
     "data": {
      "text/plain": [
       "Array([[ 0.29981548,  2.16129   ,  1.5561429 , -0.93344206],\n",
       "       [ 1.0307399 ,  0.2117739 ,  1.4858311 , -2.3797116 ],\n",
       "       [ 0.64020723, -2.0117774 ,  0.18778   , -0.04247228],\n",
       "       [-1.5756007 , -0.2535699 , -1.4641176 , -0.8265378 ]],      dtype=float32)"
      ]
     },
     "execution_count": 13,
     "metadata": {},
     "output_type": "execute_result"
    }
   ],
   "source": [
    "x_jax_32.T"
   ]
  },
  {
   "cell_type": "code",
   "execution_count": 14,
   "metadata": {},
   "outputs": [
    {
     "name": "stdout",
     "output_type": "stream",
     "text": [
      "(3, 2, 4)\n"
     ]
    }
   ],
   "source": [
    "print(jnp.transpose(jax_tensor3d, axes=[2, 1, 0]).shape)"
   ]
  },
  {
   "cell_type": "code",
   "execution_count": 15,
   "metadata": {},
   "outputs": [],
   "source": [
    "# TODO: change device"
   ]
  },
  {
   "cell_type": "code",
   "execution_count": 16,
   "metadata": {},
   "outputs": [
    {
     "data": {
      "text/plain": [
       "<Axes: >"
      ]
     },
     "execution_count": 16,
     "metadata": {},
     "output_type": "execute_result"
    },
    {
     "data": {
      "image/png": "[encoded data removed]",
      "text/plain": [
       "<Figure size 640x480 with 1 Axes>"
      ]
     },
     "metadata": {},
     "output_type": "display_data"
    }
   ],
   "source": [
    "def f(x):\n",
    "    return jnp.pow((x - 2.0), 2)\n",
    "\n",
    "\n",
    "x_axis_vals = jnp.linspace(-7, 9, 100)\n",
    "y_axis_vals = f(jnp.array(x_axis_vals))\n",
    "\n",
    "sns.lineplot(x=x_axis_vals, y=y_axis_vals, label=\"$f(x)=(x-2)^2$\")"
   ]
  },
  {
   "cell_type": "code",
   "execution_count": 17,
   "metadata": {},
   "outputs": [
    {
     "data": {
      "text/plain": [
       "<Axes: >"
      ]
     },
     "execution_count": 17,
     "metadata": {},
     "output_type": "execute_result"
    },
    {
     "data": {
      "image/png": "[encoded data removed]",
      "text/plain": [
       "<Figure size 640x480 with 1 Axes>"
      ]
     },
     "metadata": {},
     "output_type": "display_data"
    }
   ],
   "source": [
    "def fP(x):  # Defining the derivative of f(x) manually\n",
    "    return 2 * x - 4\n",
    "\n",
    "\n",
    "jax_grad_fP = jax.vmap(jax.grad(f))\n",
    "\n",
    "y_axis_vals_p = fP(jnp.array(x_axis_vals))\n",
    "y_axis_vals_p_jax = jax_grad_fP(jnp.array(x_axis_vals))\n",
    "\n",
    "# First, lets draw a black line at 0, so that we can easily tell if something is positive or negative\n",
    "sns.lineplot(x=x_axis_vals, y=[0.0] * len(x_axis_vals), label=\"0\", color=\"black\")\n",
    "sns.lineplot(x=x_axis_vals, y=y_axis_vals, label=\"$f(x) = (x-2)^2$\")\n",
    "\n",
    "# sns.lineplot(x=x_axis_vals, y=y_axis_vals_p, label=\"$f'(x)=2 x - 4$\")\n",
    "sns.lineplot(x=x_axis_vals, y=y_axis_vals_p_jax, label=\"jax $f'(x)=2 x - 4$\")"
   ]
  },
  {
   "cell_type": "code",
   "execution_count": 18,
   "metadata": {},
   "outputs": [
    {
     "name": "stdout",
     "output_type": "stream",
     "text": [
      "[1.99999996]\n"
     ]
    }
   ],
   "source": [
    "x = jnp.array([-3.5])\n",
    "\n",
    "x_cur = x.clone()\n",
    "x_prev = x_cur * 100  # Make the initial \"previous\" solution larger\n",
    "epsilon = 1e-8\n",
    "eta = 0.1\n",
    "\n",
    "grad_f = jax.vmap(jax.grad(f))\n",
    "while jnp.linalg.norm(x_cur - x_prev) > epsilon:\n",
    "    x_prev = x_cur.clone()\n",
    "    x_cur = x_cur - eta * grad_f(x_cur)\n",
    "\n",
    "print(x_cur)"
   ]
  },
  {
   "cell_type": "code",
   "execution_count": 19,
   "metadata": {},
   "outputs": [
    {
     "name": "stdout",
     "output_type": "stream",
     "text": [
      "1.9999915712745253\n"
     ]
    }
   ],
   "source": [
    "optimizer = optax.sgd(eta)\n",
    "\n",
    "# Initialize parameters of the model + optimizer.\n",
    "x_param = jnp.array(-3.5)\n",
    "opt_state = optimizer.init(x_param)\n",
    "grad_f = jax.grad(f)\n",
    "\n",
    "for epoch in range(60):\n",
    "    g = grad_f(x_param)\n",
    "    updates, opt_state = optimizer.update(g, opt_state)\n",
    "    x_param = optax.apply_updates(x_param, updates)\n",
    "print(x_param)"
   ]
  }
 ],
 "metadata": {
  "kernelspec": {
   "display_name": "py-3-12-science-victory",
   "language": "python",
   "name": "python3"
  },
  "language_info": {
   "codemirror_mode": {
    "name": "ipython",
    "version": 3
   },
   "file_extension": ".py",
   "mimetype": "text/x-python",
   "name": "python",
   "nbconvert_exporter": "python",
   "pygments_lexer": "ipython3",
   "version": "3.12.3"
  }
 },
 "nbformat": 4,
 "nbformat_minor": 2
}
