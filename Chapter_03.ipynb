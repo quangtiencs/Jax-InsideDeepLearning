{
 "cells": [
  {
   "cell_type": "code",
   "execution_count": 1,
   "metadata": {},
   "outputs": [],
   "source": [
    "import os\n",
    "\n",
    "os.environ[\"KERAS_BACKEND\"] = \"jax\"\n",
    "\n",
    "\n",
    "import numpy as np\n",
    "import jax.numpy as jnp\n",
    "import jax.random as jax_random\n",
    "import pandas as pd\n",
    "\n",
    "import keras\n",
    "from keras.models import Sequential\n",
    "from keras.layers import Input, Dense, Flatten, Conv2D, Reshape, MaxPool2D\n",
    "from keras.losses import (\n",
    "    MeanSquaredError,\n",
    "    BinaryCrossentropy,\n",
    "    SparseCategoricalCrossentropy,\n",
    ")\n",
    "from keras.optimizers import SGD, RMSprop\n",
    "from keras.metrics import SparseCategoricalAccuracy"
   ]
  },
  {
   "cell_type": "code",
   "execution_count": 2,
   "metadata": {},
   "outputs": [],
   "source": [
    "import matplotlib.pyplot as plt"
   ]
  },
  {
   "cell_type": "code",
   "execution_count": 3,
   "metadata": {},
   "outputs": [],
   "source": [
    "import torchvision\n",
    "from torchvision import transforms\n",
    "from torch.utils.data import Dataset, DataLoader\n",
    "\n",
    "to_numpy_array = lambda img: np.array(img, dtype=np.float32) / 255.0\n",
    "\n",
    "mnist_data_train = torchvision.datasets.MNIST(\n",
    "    \"./data\",\n",
    "    train=True,\n",
    "    download=True,\n",
    "    transform=to_numpy_array,\n",
    ")\n",
    "mnist_data_test = torchvision.datasets.MNIST(\n",
    "    \"./data\",\n",
    "    train=False,\n",
    "    download=True,\n",
    "    transform=to_numpy_array,\n",
    ")\n",
    "x_example, y_example = mnist_data_train[0]"
   ]
  },
  {
   "cell_type": "code",
   "execution_count": 4,
   "metadata": {},
   "outputs": [
    {
     "name": "stdout",
     "output_type": "stream",
     "text": [
      "<class 'numpy.ndarray'> (28, 28)\n"
     ]
    }
   ],
   "source": [
    "print(type(x_example), x_example.shape)"
   ]
  },
  {
   "cell_type": "code",
   "execution_count": 5,
   "metadata": {},
   "outputs": [
    {
     "data": {
      "text/plain": [
       "1.0"
      ]
     },
     "execution_count": 5,
     "metadata": {},
     "output_type": "execute_result"
    }
   ],
   "source": [
    "x_example.max()"
   ]
  },
  {
   "cell_type": "code",
   "execution_count": 6,
   "metadata": {},
   "outputs": [],
   "source": [
    "B = 32\n",
    "mnist_train_loader = DataLoader(mnist_data_train, batch_size=B, shuffle=True)\n",
    "mnist_test_loader = DataLoader(mnist_data_test, batch_size=B)"
   ]
  },
  {
   "cell_type": "code",
   "execution_count": 7,
   "metadata": {},
   "outputs": [],
   "source": [
    "# How many values are in the input? We use this to help determine the size of subsequent layers\n",
    "D = 28 * 28  # 28 * 28 images\n",
    "# How many channels are in the input?\n",
    "C = 1\n",
    "# How many classes are there?\n",
    "classes = 10\n",
    "# How many filters should we use\n",
    "filters = 16\n",
    "# how large should our filters be?\n",
    "K = 3"
   ]
  },
  {
   "cell_type": "code",
   "execution_count": 8,
   "metadata": {},
   "outputs": [],
   "source": [
    "x_shape = x_example.shape"
   ]
  },
  {
   "cell_type": "code",
   "execution_count": 9,
   "metadata": {},
   "outputs": [
    {
     "name": "stdout",
     "output_type": "stream",
     "text": [
      "Epoch 1/20\n",
      "\u001b[1m1875/1875\u001b[0m \u001b[32m━━━━━━━━━━━━━━━━━━━━\u001b[0m\u001b[37m\u001b[0m \u001b[1m2s\u001b[0m 914us/step - loss: 0.9051 - sparse_categorical_accuracy: 0.7665\n",
      "Epoch 2/20\n",
      "\u001b[1m1875/1875\u001b[0m \u001b[32m━━━━━━━━━━━━━━━━━━━━\u001b[0m\u001b[37m\u001b[0m \u001b[1m2s\u001b[0m 869us/step - loss: 0.3677 - sparse_categorical_accuracy: 0.8978\n",
      "Epoch 3/20\n",
      "\u001b[1m1875/1875\u001b[0m \u001b[32m━━━━━━━━━━━━━━━━━━━━\u001b[0m\u001b[37m\u001b[0m \u001b[1m2s\u001b[0m 876us/step - loss: 0.3149 - sparse_categorical_accuracy: 0.9107\n",
      "Epoch 4/20\n",
      "\u001b[1m1875/1875\u001b[0m \u001b[32m━━━━━━━━━━━━━━━━━━━━\u001b[0m\u001b[37m\u001b[0m \u001b[1m2s\u001b[0m 880us/step - loss: 0.2884 - sparse_categorical_accuracy: 0.9179\n",
      "Epoch 5/20\n",
      "\u001b[1m1875/1875\u001b[0m \u001b[32m━━━━━━━━━━━━━━━━━━━━\u001b[0m\u001b[37m\u001b[0m \u001b[1m2s\u001b[0m 881us/step - loss: 0.2757 - sparse_categorical_accuracy: 0.9219\n",
      "Epoch 6/20\n",
      "\u001b[1m1875/1875\u001b[0m \u001b[32m━━━━━━━━━━━━━━━━━━━━\u001b[0m\u001b[37m\u001b[0m \u001b[1m2s\u001b[0m 849us/step - loss: 0.2673 - sparse_categorical_accuracy: 0.9249\n",
      "Epoch 7/20\n",
      "\u001b[1m1875/1875\u001b[0m \u001b[32m━━━━━━━━━━━━━━━━━━━━\u001b[0m\u001b[37m\u001b[0m \u001b[1m2s\u001b[0m 865us/step - loss: 0.2499 - sparse_categorical_accuracy: 0.9298\n",
      "Epoch 8/20\n",
      "\u001b[1m1875/1875\u001b[0m \u001b[32m━━━━━━━━━━━━━━━━━━━━\u001b[0m\u001b[37m\u001b[0m \u001b[1m2s\u001b[0m 854us/step - loss: 0.2356 - sparse_categorical_accuracy: 0.9334\n",
      "Epoch 9/20\n",
      "\u001b[1m1875/1875\u001b[0m \u001b[32m━━━━━━━━━━━━━━━━━━━━\u001b[0m\u001b[37m\u001b[0m \u001b[1m2s\u001b[0m 912us/step - loss: 0.2258 - sparse_categorical_accuracy: 0.9368\n",
      "Epoch 10/20\n",
      "\u001b[1m1875/1875\u001b[0m \u001b[32m━━━━━━━━━━━━━━━━━━━━\u001b[0m\u001b[37m\u001b[0m \u001b[1m2s\u001b[0m 876us/step - loss: 0.2137 - sparse_categorical_accuracy: 0.9404\n",
      "Epoch 11/20\n",
      "\u001b[1m1875/1875\u001b[0m \u001b[32m━━━━━━━━━━━━━━━━━━━━\u001b[0m\u001b[37m\u001b[0m \u001b[1m2s\u001b[0m 854us/step - loss: 0.2031 - sparse_categorical_accuracy: 0.9426\n",
      "Epoch 12/20\n",
      "\u001b[1m1875/1875\u001b[0m \u001b[32m━━━━━━━━━━━━━━━━━━━━\u001b[0m\u001b[37m\u001b[0m \u001b[1m2s\u001b[0m 875us/step - loss: 0.1949 - sparse_categorical_accuracy: 0.9457\n",
      "Epoch 13/20\n",
      "\u001b[1m1875/1875\u001b[0m \u001b[32m━━━━━━━━━━━━━━━━━━━━\u001b[0m\u001b[37m\u001b[0m \u001b[1m2s\u001b[0m 869us/step - loss: 0.1858 - sparse_categorical_accuracy: 0.9477\n",
      "Epoch 14/20\n",
      "\u001b[1m1875/1875\u001b[0m \u001b[32m━━━━━━━━━━━━━━━━━━━━\u001b[0m\u001b[37m\u001b[0m \u001b[1m2s\u001b[0m 878us/step - loss: 0.1767 - sparse_categorical_accuracy: 0.9505\n",
      "Epoch 15/20\n",
      "\u001b[1m1875/1875\u001b[0m \u001b[32m━━━━━━━━━━━━━━━━━━━━\u001b[0m\u001b[37m\u001b[0m \u001b[1m2s\u001b[0m 867us/step - loss: 0.1735 - sparse_categorical_accuracy: 0.9516\n",
      "Epoch 16/20\n",
      "\u001b[1m1875/1875\u001b[0m \u001b[32m━━━━━━━━━━━━━━━━━━━━\u001b[0m\u001b[37m\u001b[0m \u001b[1m2s\u001b[0m 859us/step - loss: 0.1620 - sparse_categorical_accuracy: 0.9548\n",
      "Epoch 17/20\n",
      "\u001b[1m1875/1875\u001b[0m \u001b[32m━━━━━━━━━━━━━━━━━━━━\u001b[0m\u001b[37m\u001b[0m \u001b[1m2s\u001b[0m 901us/step - loss: 0.1581 - sparse_categorical_accuracy: 0.9562\n",
      "Epoch 18/20\n",
      "\u001b[1m1875/1875\u001b[0m \u001b[32m━━━━━━━━━━━━━━━━━━━━\u001b[0m\u001b[37m\u001b[0m \u001b[1m2s\u001b[0m 881us/step - loss: 0.1496 - sparse_categorical_accuracy: 0.9578\n",
      "Epoch 19/20\n",
      "\u001b[1m1875/1875\u001b[0m \u001b[32m━━━━━━━━━━━━━━━━━━━━\u001b[0m\u001b[37m\u001b[0m \u001b[1m2s\u001b[0m 880us/step - loss: 0.1472 - sparse_categorical_accuracy: 0.9589\n",
      "Epoch 20/20\n",
      "\u001b[1m1875/1875\u001b[0m \u001b[32m━━━━━━━━━━━━━━━━━━━━\u001b[0m\u001b[37m\u001b[0m \u001b[1m2s\u001b[0m 884us/step - loss: 0.1371 - sparse_categorical_accuracy: 0.9617\n"
     ]
    }
   ],
   "source": [
    "model_linear = Sequential(\n",
    "    [\n",
    "        Input(shape=x_shape),\n",
    "        Flatten(),\n",
    "        Dense(256, activation=\"tanh\"),\n",
    "        Dense(classes, activation=\"softmax\"),\n",
    "    ]\n",
    ")\n",
    "\n",
    "model_linear.compile(\n",
    "    optimizer=\"SGD\",\n",
    "    loss=SparseCategoricalCrossentropy(),\n",
    "    metrics=[SparseCategoricalAccuracy()],\n",
    ")\n",
    "fc_results = model_linear.fit(mnist_train_loader, epochs=20)"
   ]
  },
  {
   "cell_type": "code",
   "execution_count": 10,
   "metadata": {},
   "outputs": [
    {
     "data": {
      "text/plain": [
       "(1, 28, 28)"
      ]
     },
     "execution_count": 10,
     "metadata": {},
     "output_type": "execute_result"
    }
   ],
   "source": [
    "(1, *x_shape)"
   ]
  },
  {
   "cell_type": "code",
   "execution_count": 11,
   "metadata": {},
   "outputs": [
    {
     "name": "stdout",
     "output_type": "stream",
     "text": [
      "Epoch 1/20\n",
      "\u001b[1m1875/1875\u001b[0m \u001b[32m━━━━━━━━━━━━━━━━━━━━\u001b[0m\u001b[37m\u001b[0m \u001b[1m5s\u001b[0m 3ms/step - loss: 0.7027 - sparse_categorical_accuracy: 0.8202\n",
      "Epoch 2/20\n",
      "\u001b[1m1875/1875\u001b[0m \u001b[32m━━━━━━━━━━━━━━━━━━━━\u001b[0m\u001b[37m\u001b[0m \u001b[1m5s\u001b[0m 2ms/step - loss: 0.2975 - sparse_categorical_accuracy: 0.9138\n",
      "Epoch 3/20\n",
      "\u001b[1m1875/1875\u001b[0m \u001b[32m━━━━━━━━━━━━━━━━━━━━\u001b[0m\u001b[37m\u001b[0m \u001b[1m5s\u001b[0m 2ms/step - loss: 0.2775 - sparse_categorical_accuracy: 0.9199\n",
      "Epoch 4/20\n",
      "\u001b[1m1875/1875\u001b[0m \u001b[32m━━━━━━━━━━━━━━━━━━━━\u001b[0m\u001b[37m\u001b[0m \u001b[1m5s\u001b[0m 2ms/step - loss: 0.2684 - sparse_categorical_accuracy: 0.9235\n",
      "Epoch 5/20\n",
      "\u001b[1m1875/1875\u001b[0m \u001b[32m━━━━━━━━━━━━━━━━━━━━\u001b[0m\u001b[37m\u001b[0m \u001b[1m5s\u001b[0m 2ms/step - loss: 0.2554 - sparse_categorical_accuracy: 0.9283\n",
      "Epoch 6/20\n",
      "\u001b[1m1875/1875\u001b[0m \u001b[32m━━━━━━━━━━━━━━━━━━━━\u001b[0m\u001b[37m\u001b[0m \u001b[1m5s\u001b[0m 2ms/step - loss: 0.2352 - sparse_categorical_accuracy: 0.9325\n",
      "Epoch 7/20\n",
      "\u001b[1m1875/1875\u001b[0m \u001b[32m━━━━━━━━━━━━━━━━━━━━\u001b[0m\u001b[37m\u001b[0m \u001b[1m5s\u001b[0m 2ms/step - loss: 0.2307 - sparse_categorical_accuracy: 0.9353\n",
      "Epoch 8/20\n",
      "\u001b[1m1875/1875\u001b[0m \u001b[32m━━━━━━━━━━━━━━━━━━━━\u001b[0m\u001b[37m\u001b[0m \u001b[1m5s\u001b[0m 2ms/step - loss: 0.2211 - sparse_categorical_accuracy: 0.9396\n",
      "Epoch 9/20\n",
      "\u001b[1m1875/1875\u001b[0m \u001b[32m━━━━━━━━━━━━━━━━━━━━\u001b[0m\u001b[37m\u001b[0m \u001b[1m5s\u001b[0m 2ms/step - loss: 0.2050 - sparse_categorical_accuracy: 0.9420\n",
      "Epoch 10/20\n",
      "\u001b[1m1875/1875\u001b[0m \u001b[32m━━━━━━━━━━━━━━━━━━━━\u001b[0m\u001b[37m\u001b[0m \u001b[1m5s\u001b[0m 2ms/step - loss: 0.1968 - sparse_categorical_accuracy: 0.9450\n",
      "Epoch 11/20\n",
      "\u001b[1m1875/1875\u001b[0m \u001b[32m━━━━━━━━━━━━━━━━━━━━\u001b[0m\u001b[37m\u001b[0m \u001b[1m5s\u001b[0m 2ms/step - loss: 0.1816 - sparse_categorical_accuracy: 0.9492\n",
      "Epoch 12/20\n",
      "\u001b[1m1875/1875\u001b[0m \u001b[32m━━━━━━━━━━━━━━━━━━━━\u001b[0m\u001b[37m\u001b[0m \u001b[1m5s\u001b[0m 3ms/step - loss: 0.1698 - sparse_categorical_accuracy: 0.9530\n",
      "Epoch 13/20\n",
      "\u001b[1m1875/1875\u001b[0m \u001b[32m━━━━━━━━━━━━━━━━━━━━\u001b[0m\u001b[37m\u001b[0m \u001b[1m5s\u001b[0m 2ms/step - loss: 0.1565 - sparse_categorical_accuracy: 0.9562\n",
      "Epoch 14/20\n",
      "\u001b[1m1875/1875\u001b[0m \u001b[32m━━━━━━━━━━━━━━━━━━━━\u001b[0m\u001b[37m\u001b[0m \u001b[1m5s\u001b[0m 3ms/step - loss: 0.1446 - sparse_categorical_accuracy: 0.9603\n",
      "Epoch 15/20\n",
      "\u001b[1m1875/1875\u001b[0m \u001b[32m━━━━━━━━━━━━━━━━━━━━\u001b[0m\u001b[37m\u001b[0m \u001b[1m5s\u001b[0m 2ms/step - loss: 0.1283 - sparse_categorical_accuracy: 0.9654\n",
      "Epoch 16/20\n",
      "\u001b[1m1875/1875\u001b[0m \u001b[32m━━━━━━━━━━━━━━━━━━━━\u001b[0m\u001b[37m\u001b[0m \u001b[1m5s\u001b[0m 3ms/step - loss: 0.1205 - sparse_categorical_accuracy: 0.9663\n",
      "Epoch 17/20\n",
      "\u001b[1m1875/1875\u001b[0m \u001b[32m━━━━━━━━━━━━━━━━━━━━\u001b[0m\u001b[37m\u001b[0m \u001b[1m5s\u001b[0m 3ms/step - loss: 0.1137 - sparse_categorical_accuracy: 0.9691\n",
      "Epoch 18/20\n",
      "\u001b[1m1875/1875\u001b[0m \u001b[32m━━━━━━━━━━━━━━━━━━━━\u001b[0m\u001b[37m\u001b[0m \u001b[1m5s\u001b[0m 2ms/step - loss: 0.1059 - sparse_categorical_accuracy: 0.9720\n",
      "Epoch 19/20\n",
      "\u001b[1m1875/1875\u001b[0m \u001b[32m━━━━━━━━━━━━━━━━━━━━\u001b[0m\u001b[37m\u001b[0m \u001b[1m5s\u001b[0m 3ms/step - loss: 0.0971 - sparse_categorical_accuracy: 0.9734\n",
      "Epoch 20/20\n",
      "\u001b[1m1875/1875\u001b[0m \u001b[32m━━━━━━━━━━━━━━━━━━━━\u001b[0m\u001b[37m\u001b[0m \u001b[1m5s\u001b[0m 3ms/step - loss: 0.0900 - sparse_categorical_accuracy: 0.9757\n"
     ]
    }
   ],
   "source": [
    "model_cnn = Sequential(\n",
    "    [\n",
    "        Input(shape=x_shape),\n",
    "        Reshape((1, *x_shape)),\n",
    "        Conv2D(\n",
    "            filters=filters,\n",
    "            kernel_size=K,\n",
    "            padding=\"same\",\n",
    "            data_format=\"channels_first\",\n",
    "            activation=\"tanh\",\n",
    "        ),\n",
    "        Flatten(),\n",
    "        Dense(classes, activation=\"softmax\"),\n",
    "    ]\n",
    ")\n",
    "\n",
    "model_cnn.compile(\n",
    "    optimizer=\"SGD\",\n",
    "    loss=SparseCategoricalCrossentropy(),\n",
    "    metrics=[SparseCategoricalAccuracy()],\n",
    ")\n",
    "cnn_results = model_cnn.fit(mnist_train_loader, epochs=20)"
   ]
  },
  {
   "cell_type": "code",
   "execution_count": 12,
   "metadata": {},
   "outputs": [
    {
     "data": {
      "text/plain": [
       "<Axes: xlabel='epochs', ylabel='Accuracy'>"
      ]
     },
     "execution_count": 12,
     "metadata": {},
     "output_type": "execute_result"
    },
    {
     "data": {
      "image/png": "[encoded data removed]",
      "text/plain": [
       "<Figure size 640x480 with 1 Axes>"
      ]
     },
     "metadata": {},
     "output_type": "display_data"
    }
   ],
   "source": [
    "pd.DataFrame(\n",
    "    {\n",
    "        \"epochs\": np.arange(1, 21, 1),\n",
    "        \"fully connected neural network\": fc_results.history[\n",
    "            \"sparse_categorical_accuracy\"\n",
    "        ],\n",
    "        \"convolution neural network\": cnn_results.history[\n",
    "            \"sparse_categorical_accuracy\"\n",
    "        ],\n",
    "    }\n",
    ").set_index(\"epochs\").plot(ylabel=\"Accuracy\")"
   ]
  },
  {
   "cell_type": "code",
   "execution_count": 13,
   "metadata": {},
   "outputs": [
    {
     "data": {
      "text/plain": [
       "(28, 28)"
      ]
     },
     "execution_count": 13,
     "metadata": {},
     "output_type": "execute_result"
    }
   ],
   "source": [
    "mnist_data_train[0][0].shape"
   ]
  },
  {
   "cell_type": "code",
   "execution_count": 14,
   "metadata": {},
   "outputs": [
    {
     "data": {
      "image/png": "[encoded data removed]",
      "text/plain": [
       "<Figure size 640x480 with 3 Axes>"
      ]
     },
     "metadata": {},
     "output_type": "display_data"
    }
   ],
   "source": [
    "img_indx = 0\n",
    "img, correct_class = mnist_data_train[img_indx]\n",
    "\n",
    "# move to the lower right, then upper left\n",
    "img_lr = np.roll(np.roll(img, 1, axis=1), 1, axis=0)\n",
    "img_ul = np.roll(np.roll(img, -1, axis=1), -1, axis=0)\n",
    "# plot the images\n",
    "f, axarr = plt.subplots(1, 3)\n",
    "axarr[0].imshow(img, cmap=\"gray\")\n",
    "axarr[1].imshow(img_lr, cmap=\"gray\")\n",
    "axarr[2].imshow(img_ul, cmap=\"gray\")\n",
    "plt.show()"
   ]
  },
  {
   "cell_type": "code",
   "execution_count": 15,
   "metadata": {},
   "outputs": [
    {
     "name": "stdout",
     "output_type": "stream",
     "text": [
      "\u001b[1m1/1\u001b[0m \u001b[32m━━━━━━━━━━━━━━━━━━━━\u001b[0m\u001b[37m\u001b[0m \u001b[1m0s\u001b[0m 36ms/step\n",
      "\u001b[1m1/1\u001b[0m \u001b[32m━━━━━━━━━━━━━━━━━━━━\u001b[0m\u001b[37m\u001b[0m \u001b[1m0s\u001b[0m 819us/step\n",
      "\u001b[1m1/1\u001b[0m \u001b[32m━━━━━━━━━━━━━━━━━━━━\u001b[0m\u001b[37m\u001b[0m \u001b[1m0s\u001b[0m 740us/step\n",
      "Org Img Class 5 Prob:          0.9211069\n",
      "Lower Right Img Class 5 Prob:  0.72169876\n",
      "Uper Left Img Class 5 Prob:    0.9329274\n"
     ]
    }
   ],
   "source": [
    "img_pred = model_cnn.predict(img.reshape(1, 28, 28)).ravel()\n",
    "img_lr_pred = model_cnn.predict(img_lr.reshape(1, 28, 28)).ravel()\n",
    "img_ul_pred = model_cnn.predict(img_ul.reshape(1, 28, 28)).ravel()\n",
    "\n",
    "print(\"Org Img Class {} Prob:         \".format(correct_class), img_pred[correct_class])\n",
    "print(\n",
    "    \"Lower Right Img Class {} Prob: \".format(correct_class), img_lr_pred[correct_class]\n",
    ")\n",
    "print(\n",
    "    \"Uper Left Img Class {} Prob:   \".format(correct_class), img_ul_pred[correct_class]\n",
    ")"
   ]
  },
  {
   "cell_type": "code",
   "execution_count": 17,
   "metadata": {},
   "outputs": [
    {
     "name": "stdout",
     "output_type": "stream",
     "text": [
      "Epoch 1/20\n",
      "\u001b[1m1875/1875\u001b[0m \u001b[32m━━━━━━━━━━━━━━━━━━━━\u001b[0m\u001b[37m\u001b[0m \u001b[1m98s\u001b[0m 52ms/step - loss: 0.8356 - sparse_categorical_accuracy: 0.7498\n",
      "Epoch 2/20\n",
      "\u001b[1m1875/1875\u001b[0m \u001b[32m━━━━━━━━━━━━━━━━━━━━\u001b[0m\u001b[37m\u001b[0m \u001b[1m43s\u001b[0m 23ms/step - loss: 0.1629 - sparse_categorical_accuracy: 0.9539\n",
      "Epoch 3/20\n",
      "\u001b[1m1875/1875\u001b[0m \u001b[32m━━━━━━━━━━━━━━━━━━━━\u001b[0m\u001b[37m\u001b[0m \u001b[1m42s\u001b[0m 22ms/step - loss: 0.1142 - sparse_categorical_accuracy: 0.9672\n",
      "Epoch 4/20\n",
      "\u001b[1m1875/1875\u001b[0m \u001b[32m━━━━━━━━━━━━━━━━━━━━\u001b[0m\u001b[37m\u001b[0m \u001b[1m42s\u001b[0m 23ms/step - loss: 0.0933 - sparse_categorical_accuracy: 0.9736\n",
      "Epoch 5/20\n",
      "\u001b[1m1875/1875\u001b[0m \u001b[32m━━━━━━━━━━━━━━━━━━━━\u001b[0m\u001b[37m\u001b[0m \u001b[1m59s\u001b[0m 32ms/step - loss: 0.0767 - sparse_categorical_accuracy: 0.9774\n",
      "Epoch 6/20\n",
      "\u001b[1m1875/1875\u001b[0m \u001b[32m━━━━━━━━━━━━━━━━━━━━\u001b[0m\u001b[37m\u001b[0m \u001b[1m41s\u001b[0m 22ms/step - loss: 0.0706 - sparse_categorical_accuracy: 0.9807\n",
      "Epoch 7/20\n",
      "\u001b[1m1875/1875\u001b[0m \u001b[32m━━━━━━━━━━━━━━━━━━━━\u001b[0m\u001b[37m\u001b[0m \u001b[1m40s\u001b[0m 22ms/step - loss: 0.0626 - sparse_categorical_accuracy: 0.9822\n",
      "Epoch 8/20\n",
      "\u001b[1m1875/1875\u001b[0m \u001b[32m━━━━━━━━━━━━━━━━━━━━\u001b[0m\u001b[37m\u001b[0m \u001b[1m40s\u001b[0m 21ms/step - loss: 0.0563 - sparse_categorical_accuracy: 0.9841\n",
      "Epoch 9/20\n",
      "\u001b[1m1875/1875\u001b[0m \u001b[32m━━━━━━━━━━━━━━━━━━━━\u001b[0m\u001b[37m\u001b[0m \u001b[1m986s\u001b[0m 526ms/step - loss: 0.0565 - sparse_categorical_accuracy: 0.9840\n",
      "Epoch 10/20\n",
      "\u001b[1m1875/1875\u001b[0m \u001b[32m━━━━━━━━━━━━━━━━━━━━\u001b[0m\u001b[37m\u001b[0m \u001b[1m41s\u001b[0m 22ms/step - loss: 0.0514 - sparse_categorical_accuracy: 0.9854\n",
      "Epoch 11/20\n",
      "\u001b[1m1875/1875\u001b[0m \u001b[32m━━━━━━━━━━━━━━━━━━━━\u001b[0m\u001b[37m\u001b[0m \u001b[1m42s\u001b[0m 22ms/step - loss: 0.0514 - sparse_categorical_accuracy: 0.9851\n",
      "Epoch 12/20\n",
      "\u001b[1m1875/1875\u001b[0m \u001b[32m━━━━━━━━━━━━━━━━━━━━\u001b[0m\u001b[37m\u001b[0m \u001b[1m43s\u001b[0m 23ms/step - loss: 0.0473 - sparse_categorical_accuracy: 0.9868\n",
      "Epoch 13/20\n",
      "\u001b[1m1875/1875\u001b[0m \u001b[32m━━━━━━━━━━━━━━━━━━━━\u001b[0m\u001b[37m\u001b[0m \u001b[1m44s\u001b[0m 23ms/step - loss: 0.0434 - sparse_categorical_accuracy: 0.9868\n",
      "Epoch 14/20\n",
      "\u001b[1m1875/1875\u001b[0m \u001b[32m━━━━━━━━━━━━━━━━━━━━\u001b[0m\u001b[37m\u001b[0m \u001b[1m43s\u001b[0m 23ms/step - loss: 0.0431 - sparse_categorical_accuracy: 0.9865\n",
      "Epoch 15/20\n",
      "\u001b[1m1875/1875\u001b[0m \u001b[32m━━━━━━━━━━━━━━━━━━━━\u001b[0m\u001b[37m\u001b[0m \u001b[1m42s\u001b[0m 22ms/step - loss: 0.0403 - sparse_categorical_accuracy: 0.9883\n",
      "Epoch 16/20\n",
      "\u001b[1m1875/1875\u001b[0m \u001b[32m━━━━━━━━━━━━━━━━━━━━\u001b[0m\u001b[37m\u001b[0m \u001b[1m43s\u001b[0m 23ms/step - loss: 0.0380 - sparse_categorical_accuracy: 0.9887\n",
      "Epoch 17/20\n",
      "\u001b[1m1875/1875\u001b[0m \u001b[32m━━━━━━━━━━━━━━━━━━━━\u001b[0m\u001b[37m\u001b[0m \u001b[1m43s\u001b[0m 23ms/step - loss: 0.0375 - sparse_categorical_accuracy: 0.9890\n",
      "Epoch 18/20\n",
      "\u001b[1m1875/1875\u001b[0m \u001b[32m━━━━━━━━━━━━━━━━━━━━\u001b[0m\u001b[37m\u001b[0m \u001b[1m45s\u001b[0m 24ms/step - loss: 0.0362 - sparse_categorical_accuracy: 0.9894\n",
      "Epoch 19/20\n",
      "\u001b[1m1875/1875\u001b[0m \u001b[32m━━━━━━━━━━━━━━━━━━━━\u001b[0m\u001b[37m\u001b[0m \u001b[1m44s\u001b[0m 23ms/step - loss: 0.0341 - sparse_categorical_accuracy: 0.9903\n",
      "Epoch 20/20\n",
      "\u001b[1m1875/1875\u001b[0m \u001b[32m━━━━━━━━━━━━━━━━━━━━\u001b[0m\u001b[37m\u001b[0m \u001b[1m43s\u001b[0m 23ms/step - loss: 0.0344 - sparse_categorical_accuracy: 0.9905\n"
     ]
    }
   ],
   "source": [
    "model_cnn_pool = Sequential(\n",
    "    [\n",
    "        Input(shape=x_shape),\n",
    "        Reshape((1, *x_shape)),\n",
    "        Conv2D(\n",
    "            filters=filters,\n",
    "            kernel_size=K,\n",
    "            padding=\"same\",\n",
    "            data_format=\"channels_first\",\n",
    "            activation=\"tanh\",\n",
    "        ),\n",
    "        Conv2D(\n",
    "            filters=filters,\n",
    "            kernel_size=K,\n",
    "            padding=\"same\",\n",
    "            data_format=\"channels_first\",\n",
    "            activation=\"tanh\",\n",
    "        ),\n",
    "        Conv2D(\n",
    "            filters=filters,\n",
    "            kernel_size=K,\n",
    "            padding=\"same\",\n",
    "            data_format=\"channels_first\",\n",
    "            activation=\"tanh\",\n",
    "        ),\n",
    "        MaxPool2D(pool_size=(2, 2)),\n",
    "        Conv2D(\n",
    "            filters=filters,\n",
    "            kernel_size=K,\n",
    "            padding=\"same\",\n",
    "            data_format=\"channels_first\",\n",
    "            activation=\"tanh\",\n",
    "        ),\n",
    "        Conv2D(\n",
    "            filters=filters,\n",
    "            kernel_size=K,\n",
    "            padding=\"same\",\n",
    "            data_format=\"channels_first\",\n",
    "            activation=\"tanh\",\n",
    "        ),\n",
    "        Conv2D(\n",
    "            filters=filters,\n",
    "            kernel_size=K,\n",
    "            padding=\"same\",\n",
    "            data_format=\"channels_first\",\n",
    "            activation=\"tanh\",\n",
    "        ),\n",
    "        MaxPool2D(pool_size=(2, 2)),\n",
    "        Flatten(),\n",
    "        Dense(classes, activation=\"softmax\"),\n",
    "    ]\n",
    ")\n",
    "\n",
    "model_cnn_pool.compile(\n",
    "    optimizer=\"SGD\",\n",
    "    loss=SparseCategoricalCrossentropy(),\n",
    "    metrics=[SparseCategoricalAccuracy()],\n",
    ")\n",
    "cnn_pool_results = model_cnn_pool.fit(mnist_train_loader, epochs=20)"
   ]
  },
  {
   "cell_type": "code",
   "execution_count": 18,
   "metadata": {},
   "outputs": [
    {
     "name": "stdout",
     "output_type": "stream",
     "text": [
      "\u001b[1m1/1\u001b[0m \u001b[32m━━━━━━━━━━━━━━━━━━━━\u001b[0m\u001b[37m\u001b[0m \u001b[1m0s\u001b[0m 76ms/step\n",
      "\u001b[1m1/1\u001b[0m \u001b[32m━━━━━━━━━━━━━━━━━━━━\u001b[0m\u001b[37m\u001b[0m \u001b[1m0s\u001b[0m 1ms/step\n",
      "\u001b[1m1/1\u001b[0m \u001b[32m━━━━━━━━━━━━━━━━━━━━\u001b[0m\u001b[37m\u001b[0m \u001b[1m0s\u001b[0m 1ms/step  \n",
      "Org Img Class 5 Prob:          0.94532585\n",
      "Lower Right Img Class 5 Prob:  0.8803822\n",
      "Uper Left Img Class 5 Prob:    0.86138624\n"
     ]
    }
   ],
   "source": [
    "img_pred = model_cnn_pool.predict(img.reshape(1, 28, 28)).ravel()\n",
    "img_lr_pred = model_cnn_pool.predict(img_lr.reshape(1, 28, 28)).ravel()\n",
    "img_ul_pred = model_cnn_pool.predict(img_ul.reshape(1, 28, 28)).ravel()\n",
    "\n",
    "print(\"Org Img Class {} Prob:         \".format(correct_class), img_pred[correct_class])\n",
    "print(\n",
    "    \"Lower Right Img Class {} Prob: \".format(correct_class), img_lr_pred[correct_class]\n",
    ")\n",
    "print(\n",
    "    \"Uper Left Img Class {} Prob:   \".format(correct_class), img_ul_pred[correct_class]\n",
    ")"
   ]
  },
  {
   "cell_type": "code",
   "execution_count": 19,
   "metadata": {},
   "outputs": [
    {
     "data": {
      "image/png": "[encoded data removed]",
      "text/plain": [
       "<Figure size 640x480 with 8 Axes>"
      ]
     },
     "metadata": {},
     "output_type": "display_data"
    }
   ],
   "source": [
    "# Several built-in transformations, given some agressive values to make their impact more obvious.\n",
    "sample_transforms = {\n",
    "    \"Rotation\": transforms.RandomAffine(degrees=45),\n",
    "    \"Translation\": transforms.RandomAffine(degrees=0, translate=(0.1, 0.1)),\n",
    "    \"Shear\": transforms.RandomAffine(degrees=0, shear=45),\n",
    "    \"RandomCrop\": transforms.RandomCrop((20, 20)),\n",
    "    \"Horizontal Flip\": transforms.RandomHorizontalFlip(p=1.0),\n",
    "    \"Vertical Flip\": transforms.RandomVerticalFlip(p=1.0),\n",
    "    \"Perspective\": transforms.RandomPerspective(p=1.0),\n",
    "    \"ColorJitter\": transforms.ColorJitter(brightness=0.9, contrast=0.9),\n",
    "}\n",
    "# Convert the Tensor image back to a PIL image using a transform\n",
    "pil_img = transforms.ToPILImage()(img)\n",
    "# Plot a randomy application of each transform\n",
    "f, axarr = plt.subplots(2, 4)\n",
    "for count, (name, t) in enumerate(sample_transforms.items()):\n",
    "    row = count % 4\n",
    "    col = count // 4\n",
    "    axarr[col, row].imshow(t(pil_img), cmap=\"gray\")\n",
    "    axarr[col, row].set_title(name)\n",
    "plt.show()"
   ]
  },
  {
   "cell_type": "code",
   "execution_count": 20,
   "metadata": {},
   "outputs": [],
   "source": [
    "train_transform = transforms.Compose(\n",
    "    [\n",
    "        transforms.RandomAffine(degrees=5, translate=(0.05, 0.05), scale=(0.98, 1.02)),\n",
    "        to_numpy_array,\n",
    "    ]\n",
    ")\n",
    "\n",
    "test_transform = to_numpy_array\n",
    "\n",
    "mnist_train_t = torchvision.datasets.MNIST(\n",
    "    \"./data\", train=True, transform=train_transform\n",
    ")\n",
    "mnist_test_t = torchvision.datasets.MNIST(\n",
    "    \"./data\", train=False, transform=test_transform\n",
    ")\n",
    "mnist_train_loader_t = DataLoader(mnist_train_t, shuffle=True, batch_size=B)\n",
    "mnist_test_loader_t = DataLoader(mnist_test_t, batch_size=B)"
   ]
  },
  {
   "cell_type": "code",
   "execution_count": 21,
   "metadata": {},
   "outputs": [
    {
     "name": "stdout",
     "output_type": "stream",
     "text": [
      "Epoch 1/20\n",
      "\u001b[1m1875/1875\u001b[0m \u001b[32m━━━━━━━━━━━━━━━━━━━━\u001b[0m\u001b[37m\u001b[0m \u001b[1m44s\u001b[0m 23ms/step - loss: 1.0588 - sparse_categorical_accuracy: 0.6758\n",
      "Epoch 2/20\n",
      "\u001b[1m1875/1875\u001b[0m \u001b[32m━━━━━━━━━━━━━━━━━━━━\u001b[0m\u001b[37m\u001b[0m \u001b[1m43s\u001b[0m 23ms/step - loss: 0.1915 - sparse_categorical_accuracy: 0.9435\n",
      "Epoch 3/20\n",
      "\u001b[1m1875/1875\u001b[0m \u001b[32m━━━━━━━━━━━━━━━━━━━━\u001b[0m\u001b[37m\u001b[0m \u001b[1m44s\u001b[0m 23ms/step - loss: 0.1401 - sparse_categorical_accuracy: 0.9582\n",
      "Epoch 4/20\n",
      "\u001b[1m1875/1875\u001b[0m \u001b[32m━━━━━━━━━━━━━━━━━━━━\u001b[0m\u001b[37m\u001b[0m \u001b[1m44s\u001b[0m 24ms/step - loss: 0.1204 - sparse_categorical_accuracy: 0.9636\n",
      "Epoch 5/20\n",
      "\u001b[1m1875/1875\u001b[0m \u001b[32m━━━━━━━━━━━━━━━━━━━━\u001b[0m\u001b[37m\u001b[0m \u001b[1m43s\u001b[0m 23ms/step - loss: 0.1046 - sparse_categorical_accuracy: 0.9679\n",
      "Epoch 6/20\n",
      "\u001b[1m1875/1875\u001b[0m \u001b[32m━━━━━━━━━━━━━━━━━━━━\u001b[0m\u001b[37m\u001b[0m \u001b[1m43s\u001b[0m 23ms/step - loss: 0.0930 - sparse_categorical_accuracy: 0.9715\n",
      "Epoch 7/20\n",
      "\u001b[1m1875/1875\u001b[0m \u001b[32m━━━━━━━━━━━━━━━━━━━━\u001b[0m\u001b[37m\u001b[0m \u001b[1m42s\u001b[0m 23ms/step - loss: 0.0836 - sparse_categorical_accuracy: 0.9752\n",
      "Epoch 8/20\n",
      "\u001b[1m1875/1875\u001b[0m \u001b[32m━━━━━━━━━━━━━━━━━━━━\u001b[0m\u001b[37m\u001b[0m \u001b[1m44s\u001b[0m 23ms/step - loss: 0.0788 - sparse_categorical_accuracy: 0.9768\n",
      "Epoch 9/20\n",
      "\u001b[1m1875/1875\u001b[0m \u001b[32m━━━━━━━━━━━━━━━━━━━━\u001b[0m\u001b[37m\u001b[0m \u001b[1m43s\u001b[0m 23ms/step - loss: 0.0759 - sparse_categorical_accuracy: 0.9767\n",
      "Epoch 10/20\n",
      "\u001b[1m1875/1875\u001b[0m \u001b[32m━━━━━━━━━━━━━━━━━━━━\u001b[0m\u001b[37m\u001b[0m \u001b[1m44s\u001b[0m 24ms/step - loss: 0.0712 - sparse_categorical_accuracy: 0.9785\n",
      "Epoch 11/20\n",
      "\u001b[1m1875/1875\u001b[0m \u001b[32m━━━━━━━━━━━━━━━━━━━━\u001b[0m\u001b[37m\u001b[0m \u001b[1m44s\u001b[0m 23ms/step - loss: 0.0657 - sparse_categorical_accuracy: 0.9803\n",
      "Epoch 12/20\n",
      "\u001b[1m1875/1875\u001b[0m \u001b[32m━━━━━━━━━━━━━━━━━━━━\u001b[0m\u001b[37m\u001b[0m \u001b[1m44s\u001b[0m 23ms/step - loss: 0.0620 - sparse_categorical_accuracy: 0.9814\n",
      "Epoch 13/20\n",
      "\u001b[1m1875/1875\u001b[0m \u001b[32m━━━━━━━━━━━━━━━━━━━━\u001b[0m\u001b[37m\u001b[0m \u001b[1m43s\u001b[0m 23ms/step - loss: 0.0635 - sparse_categorical_accuracy: 0.9808\n",
      "Epoch 14/20\n",
      "\u001b[1m1875/1875\u001b[0m \u001b[32m━━━━━━━━━━━━━━━━━━━━\u001b[0m\u001b[37m\u001b[0m \u001b[1m42s\u001b[0m 22ms/step - loss: 0.0614 - sparse_categorical_accuracy: 0.9814\n",
      "Epoch 15/20\n",
      "\u001b[1m1875/1875\u001b[0m \u001b[32m━━━━━━━━━━━━━━━━━━━━\u001b[0m\u001b[37m\u001b[0m \u001b[1m42s\u001b[0m 22ms/step - loss: 0.0550 - sparse_categorical_accuracy: 0.9832\n",
      "Epoch 16/20\n",
      "\u001b[1m1875/1875\u001b[0m \u001b[32m━━━━━━━━━━━━━━━━━━━━\u001b[0m\u001b[37m\u001b[0m \u001b[1m43s\u001b[0m 23ms/step - loss: 0.0552 - sparse_categorical_accuracy: 0.9834\n",
      "Epoch 17/20\n",
      "\u001b[1m1875/1875\u001b[0m \u001b[32m━━━━━━━━━━━━━━━━━━━━\u001b[0m\u001b[37m\u001b[0m \u001b[1m42s\u001b[0m 22ms/step - loss: 0.0534 - sparse_categorical_accuracy: 0.9832\n",
      "Epoch 18/20\n",
      "\u001b[1m1875/1875\u001b[0m \u001b[32m━━━━━━━━━━━━━━━━━━━━\u001b[0m\u001b[37m\u001b[0m \u001b[1m43s\u001b[0m 23ms/step - loss: 0.0481 - sparse_categorical_accuracy: 0.9855\n",
      "Epoch 19/20\n",
      "\u001b[1m1875/1875\u001b[0m \u001b[32m━━━━━━━━━━━━━━━━━━━━\u001b[0m\u001b[37m\u001b[0m \u001b[1m44s\u001b[0m 23ms/step - loss: 0.0485 - sparse_categorical_accuracy: 0.9860\n",
      "Epoch 20/20\n",
      "\u001b[1m1875/1875\u001b[0m \u001b[32m━━━━━━━━━━━━━━━━━━━━\u001b[0m\u001b[37m\u001b[0m \u001b[1m43s\u001b[0m 23ms/step - loss: 0.0459 - sparse_categorical_accuracy: 0.9863\n"
     ]
    }
   ],
   "source": [
    "model_cnn_pool = Sequential(\n",
    "    [\n",
    "        Input(shape=x_shape),\n",
    "        Reshape((1, *x_shape)),\n",
    "        Conv2D(\n",
    "            filters=filters,\n",
    "            kernel_size=K,\n",
    "            padding=\"same\",\n",
    "            data_format=\"channels_first\",\n",
    "            activation=\"tanh\",\n",
    "        ),\n",
    "        Conv2D(\n",
    "            filters=filters,\n",
    "            kernel_size=K,\n",
    "            padding=\"same\",\n",
    "            data_format=\"channels_first\",\n",
    "            activation=\"tanh\",\n",
    "        ),\n",
    "        Conv2D(\n",
    "            filters=filters,\n",
    "            kernel_size=K,\n",
    "            padding=\"same\",\n",
    "            data_format=\"channels_first\",\n",
    "            activation=\"tanh\",\n",
    "        ),\n",
    "        MaxPool2D(pool_size=(2, 2)),\n",
    "        Conv2D(\n",
    "            filters=filters,\n",
    "            kernel_size=K,\n",
    "            padding=\"same\",\n",
    "            data_format=\"channels_first\",\n",
    "            activation=\"tanh\",\n",
    "        ),\n",
    "        Conv2D(\n",
    "            filters=filters,\n",
    "            kernel_size=K,\n",
    "            padding=\"same\",\n",
    "            data_format=\"channels_first\",\n",
    "            activation=\"tanh\",\n",
    "        ),\n",
    "        Conv2D(\n",
    "            filters=filters,\n",
    "            kernel_size=K,\n",
    "            padding=\"same\",\n",
    "            data_format=\"channels_first\",\n",
    "            activation=\"tanh\",\n",
    "        ),\n",
    "        MaxPool2D(pool_size=(2, 2)),\n",
    "        Flatten(),\n",
    "        Dense(classes, activation=\"softmax\"),\n",
    "    ]\n",
    ")\n",
    "\n",
    "model_cnn_pool.compile(\n",
    "    optimizer=\"SGD\",\n",
    "    loss=SparseCategoricalCrossentropy(),\n",
    "    metrics=[SparseCategoricalAccuracy()],\n",
    ")\n",
    "cnn_pool_with_argu_results = model_cnn_pool.fit(mnist_train_loader_t, epochs=20)"
   ]
  },
  {
   "cell_type": "code",
   "execution_count": 22,
   "metadata": {},
   "outputs": [
    {
     "data": {
      "text/plain": [
       "<Axes: xlabel='epochs', ylabel='Accuracy'>"
      ]
     },
     "execution_count": 22,
     "metadata": {},
     "output_type": "execute_result"
    },
    {
     "data": {
      "image/png": "[encoded data removed]",
      "text/plain": [
       "<Figure size 640x480 with 1 Axes>"
      ]
     },
     "metadata": {},
     "output_type": "display_data"
    }
   ],
   "source": [
    "pd.DataFrame(\n",
    "    {\n",
    "        \"epochs\": np.arange(1, 21, 1),\n",
    "        \"CNN w/ Max Pooling\": cnn_pool_results.history[\"sparse_categorical_accuracy\"],\n",
    "        \"CNN w/ Max Pooling + Augmentation\": cnn_pool_with_argu_results.history[\n",
    "            \"sparse_categorical_accuracy\"\n",
    "        ],\n",
    "    }\n",
    ").set_index(\"epochs\").plot(ylabel=\"Accuracy\")"
   ]
  },
  {
   "cell_type": "code",
   "execution_count": 23,
   "metadata": {},
   "outputs": [
    {
     "name": "stdout",
     "output_type": "stream",
     "text": [
      "\u001b[1m1/1\u001b[0m \u001b[32m━━━━━━━━━━━━━━━━━━━━\u001b[0m\u001b[37m\u001b[0m \u001b[1m0s\u001b[0m 90ms/step\n",
      "\u001b[1m1/1\u001b[0m \u001b[32m━━━━━━━━━━━━━━━━━━━━\u001b[0m\u001b[37m\u001b[0m \u001b[1m0s\u001b[0m 1ms/step\n",
      "\u001b[1m1/1\u001b[0m \u001b[32m━━━━━━━━━━━━━━━━━━━━\u001b[0m\u001b[37m\u001b[0m \u001b[1m0s\u001b[0m 1ms/step  \n",
      "Org Img Class 5 Prob:          0.94136614\n",
      "Lower Right Img Class 5 Prob:  0.7860279\n",
      "Uper Left Img Class 5 Prob:    0.9927457\n"
     ]
    }
   ],
   "source": [
    "img_pred = model_cnn_pool.predict(img.reshape(1, 28, 28)).ravel()\n",
    "img_lr_pred = model_cnn_pool.predict(img_lr.reshape(1, 28, 28)).ravel()\n",
    "img_ul_pred = model_cnn_pool.predict(img_ul.reshape(1, 28, 28)).ravel()\n",
    "\n",
    "print(\"Org Img Class {} Prob:         \".format(correct_class), img_pred[correct_class])\n",
    "print(\n",
    "    \"Lower Right Img Class {} Prob: \".format(correct_class), img_lr_pred[correct_class]\n",
    ")\n",
    "print(\n",
    "    \"Uper Left Img Class {} Prob:   \".format(correct_class), img_ul_pred[correct_class]\n",
    ")"
   ]
  },
  {
   "cell_type": "code",
   "execution_count": null,
   "metadata": {},
   "outputs": [],
   "source": []
  }
 ],
 "metadata": {
  "kernelspec": {
   "display_name": "keras3",
   "language": "python",
   "name": "python3"
  },
  "language_info": {
   "codemirror_mode": {
    "name": "ipython",
    "version": 3
   },
   "file_extension": ".py",
   "mimetype": "text/x-python",
   "name": "python",
   "nbconvert_exporter": "python",
   "pygments_lexer": "ipython3",
   "version": "3.12.4"
  }
 },
 "nbformat": 4,
 "nbformat_minor": 2
}
